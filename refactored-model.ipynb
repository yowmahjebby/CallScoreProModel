{
 "cells": [
  {
   "cell_type": "code",
   "execution_count": 1,
   "metadata": {},
   "outputs": [],
   "source": [
    "import os\n",
    "from pydub import AudioSegment"
   ]
  },
  {
   "cell_type": "code",
   "execution_count": 2,
   "metadata": {},
   "outputs": [],
   "source": [
    "def prepare_voice_file(path: str) -> str:\n",
    "    file_name = os.path.basename(path)\n",
    "    processed_dir = \"Recordings/processed/\"\n",
    "    os.makedirs(processed_dir, exist_ok=True)\n",
    "    \n",
    "    if os.path.splitext(path)[1] == '.wav':\n",
    "        print(f'File {file_name} already in wav format')\n",
    "        return path\n",
    "    elif os.path.splitext(path)[1] in ('.mp3', '.m4a', '.ogg', '.flac'):\n",
    "        audio_file = AudioSegment.from_file(path, format=os.path.splitext(path)[1][1:])\n",
    "        audio_file=audio_file.set_channels(1)\n",
    "        wav_file = processed_dir + os.path.splitext(file_name)[0] + '.wav'\n",
    "        audio_file.export(wav_file, format='wav')\n",
    "        print(f'Converted {path} to {wav_file}')\n",
    "        return wav_file\n",
    "    else:\n",
    "        raise ValueError(\n",
    "            f'Unsupported audio format: {format(os.path.splitext(path)[1])}')"
   ]
  },
  {
   "cell_type": "code",
   "execution_count": 3,
   "metadata": {},
   "outputs": [
    {
     "name": "stdout",
     "output_type": "stream",
     "text": [
      "Converted Recordings/raw/Customer Service Sample Call - Product Refund (192 kbps).mp3 to Recordings/processed/Customer Service Sample Call - Product Refund (192 kbps).wav\n"
     ]
    }
   ],
   "source": [
    "wav_file = prepare_voice_file(r\"Recordings/raw/Customer Service Sample Call - Product Refund (192 kbps).mp3\")"
   ]
  }
 ],
 "metadata": {
  "kernelspec": {
   "display_name": "env",
   "language": "python",
   "name": "python3"
  },
  "language_info": {
   "codemirror_mode": {
    "name": "ipython",
    "version": 3
   },
   "file_extension": ".py",
   "mimetype": "text/x-python",
   "name": "python",
   "nbconvert_exporter": "python",
   "pygments_lexer": "ipython3",
   "version": "3.10.0"
  },
  "orig_nbformat": 4
 },
 "nbformat": 4,
 "nbformat_minor": 2
}
